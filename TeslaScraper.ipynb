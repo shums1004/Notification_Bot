{
 "cells": [
  {
   "cell_type": "code",
   "execution_count": 22,
   "id": "16a8c588-89ff-4f8a-a59a-9d71a9e5e139",
   "metadata": {
    "tags": []
   },
   "outputs": [
    {
     "name": "stdout",
     "output_type": "stream",
     "text": [
      "Found your cars\n",
      "            Colour  Price\n",
      "0  Midnight Silver  43800\n",
      "1  Pearl White Pai  44200\n"
     ]
    },
    {
     "ename": "WebDriverException",
     "evalue": "Message: disconnected: not connected to DevTools\n  (failed to check if window was closed: disconnected: not connected to DevTools)\n  (Session info: chrome=115.0.5790.114)\n",
     "output_type": "error",
     "traceback": [
      "\u001b[0;31m---------------------------------------------------------------------------\u001b[0m",
      "\u001b[0;31mWebDriverException\u001b[0m                        Traceback (most recent call last)",
      "Cell \u001b[0;32mIn[22], line 88\u001b[0m\n\u001b[1;32m     86\u001b[0m \u001b[38;5;66;03m# schedule.run_pending()\u001b[39;00m\n\u001b[1;32m     87\u001b[0m time\u001b[38;5;241m.\u001b[39msleep(\u001b[38;5;241m18000\u001b[39m)\n\u001b[0;32m---> 88\u001b[0m wd\u001b[38;5;241m.\u001b[39mrefresh()\n",
      "File \u001b[0;32m~/anaconda3/envs/Tesla_Scraper/lib/python3.11/site-packages/selenium/webdriver/remote/webdriver.py:831\u001b[0m, in \u001b[0;36mWebDriver.refresh\u001b[0;34m(self)\u001b[0m\n\u001b[1;32m    824\u001b[0m \u001b[38;5;28;01mdef\u001b[39;00m \u001b[38;5;21mrefresh\u001b[39m(\u001b[38;5;28mself\u001b[39m):\n\u001b[1;32m    825\u001b[0m \u001b[38;5;250m    \u001b[39m\u001b[38;5;124;03m\"\"\"\u001b[39;00m\n\u001b[1;32m    826\u001b[0m \u001b[38;5;124;03m    Refreshes the current page.\u001b[39;00m\n\u001b[1;32m    827\u001b[0m \n\u001b[1;32m    828\u001b[0m \u001b[38;5;124;03m    :Usage:\u001b[39;00m\n\u001b[1;32m    829\u001b[0m \u001b[38;5;124;03m        driver.refresh()\u001b[39;00m\n\u001b[1;32m    830\u001b[0m \u001b[38;5;124;03m    \"\"\"\u001b[39;00m\n\u001b[0;32m--> 831\u001b[0m     \u001b[38;5;28mself\u001b[39m\u001b[38;5;241m.\u001b[39mexecute(Command\u001b[38;5;241m.\u001b[39mREFRESH)\n",
      "File \u001b[0;32m~/anaconda3/envs/Tesla_Scraper/lib/python3.11/site-packages/selenium/webdriver/remote/webdriver.py:321\u001b[0m, in \u001b[0;36mWebDriver.execute\u001b[0;34m(self, driver_command, params)\u001b[0m\n\u001b[1;32m    319\u001b[0m response \u001b[38;5;241m=\u001b[39m \u001b[38;5;28mself\u001b[39m\u001b[38;5;241m.\u001b[39mcommand_executor\u001b[38;5;241m.\u001b[39mexecute(driver_command, params)\n\u001b[1;32m    320\u001b[0m \u001b[38;5;28;01mif\u001b[39;00m response:\n\u001b[0;32m--> 321\u001b[0m     \u001b[38;5;28mself\u001b[39m\u001b[38;5;241m.\u001b[39merror_handler\u001b[38;5;241m.\u001b[39mcheck_response(response)\n\u001b[1;32m    322\u001b[0m     response[\u001b[38;5;124m'\u001b[39m\u001b[38;5;124mvalue\u001b[39m\u001b[38;5;124m'\u001b[39m] \u001b[38;5;241m=\u001b[39m \u001b[38;5;28mself\u001b[39m\u001b[38;5;241m.\u001b[39m_unwrap_value(\n\u001b[1;32m    323\u001b[0m         response\u001b[38;5;241m.\u001b[39mget(\u001b[38;5;124m'\u001b[39m\u001b[38;5;124mvalue\u001b[39m\u001b[38;5;124m'\u001b[39m, \u001b[38;5;28;01mNone\u001b[39;00m))\n\u001b[1;32m    324\u001b[0m     \u001b[38;5;28;01mreturn\u001b[39;00m response\n",
      "File \u001b[0;32m~/anaconda3/envs/Tesla_Scraper/lib/python3.11/site-packages/selenium/webdriver/remote/errorhandler.py:242\u001b[0m, in \u001b[0;36mErrorHandler.check_response\u001b[0;34m(self, response)\u001b[0m\n\u001b[1;32m    240\u001b[0m         alert_text \u001b[38;5;241m=\u001b[39m value[\u001b[38;5;124m'\u001b[39m\u001b[38;5;124malert\u001b[39m\u001b[38;5;124m'\u001b[39m]\u001b[38;5;241m.\u001b[39mget(\u001b[38;5;124m'\u001b[39m\u001b[38;5;124mtext\u001b[39m\u001b[38;5;124m'\u001b[39m)\n\u001b[1;32m    241\u001b[0m     \u001b[38;5;28;01mraise\u001b[39;00m exception_class(message, screen, stacktrace, alert_text)\n\u001b[0;32m--> 242\u001b[0m \u001b[38;5;28;01mraise\u001b[39;00m exception_class(message, screen, stacktrace)\n",
      "\u001b[0;31mWebDriverException\u001b[0m: Message: disconnected: not connected to DevTools\n  (failed to check if window was closed: disconnected: not connected to DevTools)\n  (Session info: chrome=115.0.5790.114)\n"
     ]
    }
   ],
   "source": [
    "from selenium import webdriver as wd\n",
    "import chromedriver_binary\n",
    "from bs4 import BeautifulSoup\n",
    "import uuid\n",
    "import pandas as pd\n",
    "import time\n",
    "import pywhatkit as kit\n",
    "import keyboard\n",
    "\n",
    "\n",
    "my_number = \"+10000000000\"\n",
    "wd = wd.Chrome()\n",
    "wd.implicitly_wait(10)\n",
    "soup =  BeautifulSoup(wd.page_source)\n",
    "\n",
    "# wd.get(\"https://www.tesla.com/inventory/new/my?TRIM=LRAWD&arrangeby=plh&zip=98074&range=200\")\n",
    "\n",
    "def get_uuid_id():\n",
    "    return str(uuid.uuid4())\n",
    "\n",
    "# wd.get(\"https://www.tesla.com/inventory/new/my?arrangeby=relevance&zip=98074&range=200\")\n",
    "\n",
    "\n",
    "\n",
    "def search_Tesla(url):\n",
    "\n",
    "    wd.get(url)\n",
    "    # zipCode = wd.find_element_by_name(\"zip\")\n",
    "    # zipCode.click()\n",
    "    # wd.find_element_by_name(\"zip\").clear()\n",
    "    # zipCode.send_keys(\"93501\")\n",
    "    \n",
    "    soup =  BeautifulSoup(wd.page_source)\n",
    "    results = soup.find(\"div\",{\"class\": \"results-container\"})\n",
    "    rows =[]\n",
    "    df_Search_Results = pd.DataFrame(columns= [\"CarId\",\"Colour\", \"Price\"])\n",
    "    \n",
    "    # for none results the loop cannot ittereate over none\n",
    "    if results:\n",
    "        for result in results:\n",
    "            price_raw = result.find(\"span\", {\"class\": \"result-purchase-price\"})\n",
    "            features = result.find(\"ul\",{\"class\": \"result-regular-features\"})\n",
    "\n",
    "            if price_raw and features:\n",
    "                price = price_raw.text[1:]\n",
    "                prices= int(price.replace(',', ''))\n",
    "                # print(prices)\n",
    "                colour = features.text[0:15]\n",
    "                # print(colour)\n",
    "                car_id = get_uuid_id()\n",
    "                row = [car_id, colour, prices]\n",
    "                rows.append(row)\n",
    "\n",
    "    df = pd.DataFrame.from_records(rows,columns=[\"CarId\",\"Colour\",\"Price\"])\n",
    "    df_Search_Results = pd.concat([df_Search_Results,df])\n",
    "    \n",
    "    return  df_Search_Results\n",
    "\n",
    "def sendWhatsappMsg(cars_query, my_url):\n",
    "    my_cars = cars_query[['Colour', 'Price']].copy()\n",
    "    print(my_cars)\n",
    "    cars = my_cars.to_string(index = False) + \"                                                          \" + my_url\n",
    "    kit.sendwhatmsg_instantly(my_number, cars, 30)\n",
    "    time.sleep(10)\n",
    "    keyboard.press_and_release('command+w')\n",
    "    keyboard.press_and_release('command+w')\n",
    "    time.sleep(2)\n",
    "    \n",
    "    \n",
    "            \n",
    "def checkAndNotify():\n",
    "    cars = search_Tesla(\"https://www.tesla.com/inventory/used/my?TRIM=PAWD&INTERIOR=PREMIUM_WHITE&VehicleHistory=CLEAN&AUTOPILOT=ENHANCED_AUTOPILOT,AUTOPILOT_FULL_SELF_DRIVING&Year=2022,2021&arrangeby=plh&zip=98075\")\n",
    "    cars_query = cars[(cars.Price<=45000)]\n",
    "    if (not cars_query.empty):\n",
    "        print(\"Found your cars\")\n",
    "        sendWhatsappMsg(cars_query, \"https://www.tesla.com/inventory/used/my?TRIM=PAWD&INTERIOR=PREMIUM_WHITE&VehicleHistory=CLEAN&AUTOPILOT=ENHANCED_AUTOPILOT,AUTOPILOT_FULL_SELF_DRIVING&Year=2022,2021&arrangeby=plh&zip=98075\")\n",
    "    else:\n",
    "        print(\"No new Cars\")\n",
    "              \n",
    "# schedule.every(5).hours.at(\":00\").do(checkAndNotify)\n",
    "        \n",
    "while(True):\n",
    "    \n",
    "    checkAndNotify()\n",
    "    # schedule.run_pending()\n",
    "    time.sleep(18000)\n",
    "    wd.refresh()\n",
    "        "
   ]
  },
  {
   "cell_type": "code",
   "execution_count": null,
   "id": "c3e2be89-43fd-4d9b-b9de-6e43a1217abe",
   "metadata": {},
   "outputs": [],
   "source": []
  },
  {
   "cell_type": "code",
   "execution_count": null,
   "id": "bb56acb7-9d8e-495f-ab73-47f35b7a998a",
   "metadata": {},
   "outputs": [],
   "source": []
  }
 ],
 "metadata": {
  "kernelspec": {
   "display_name": "Python 3 (ipykernel)",
   "language": "python",
   "name": "python3"
  },
  "language_info": {
   "codemirror_mode": {
    "name": "ipython",
    "version": 3
   },
   "file_extension": ".py",
   "mimetype": "text/x-python",
   "name": "python",
   "nbconvert_exporter": "python",
   "pygments_lexer": "ipython3",
   "version": "3.11.4"
  }
 },
 "nbformat": 4,
 "nbformat_minor": 5
}
